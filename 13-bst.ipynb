{
 "cells": [
  {
   "cell_type": "markdown",
   "metadata": {
    "state": "normal"
   },
   "source": [
    "# Binary Search Tree\n",
    "\n",
    "## Agenda\n",
    "\n",
    "1. Insertion\n",
    "2. Traversal\n",
    "3. Search\n",
    "4. Deletion\n",
    "5. Maximum/Minimum\n",
    "6. BST Problems"
   ]
  },
  {
   "cell_type": "markdown",
   "metadata": {},
   "source": [
    "## BST"
   ]
  },
  {
   "cell_type": "code",
   "execution_count": null,
   "metadata": {},
   "outputs": [],
   "source": [
    "class Node:\n",
    "    def __init__(self, val):\n",
    "        self.val = val\n",
    "        self.left = None\n",
    "        self.right = None\n",
    "\n",
    "def insert(node, val):\n",
    "    pass\n",
    " \n",
    "def inorder(root):\n",
    "    pass\n",
    "\n",
    "def preorder(root):\n",
    "    pass\n",
    "\n",
    "def postorder(root):\n",
    "    pass\n",
    "\n",
    "def search(root, val):\n",
    "    pass\n",
    " \n",
    "def delete(root, val):\n",
    "    pass\n",
    "\n",
    "def maximum(root):\n",
    "    pass\n",
    "\n",
    "def minimum(root):\n",
    "    pass"
   ]
  },
  {
   "cell_type": "markdown",
   "metadata": {},
   "source": [
    "## 1. Insertion"
   ]
  },
  {
   "cell_type": "code",
   "execution_count": null,
   "metadata": {},
   "outputs": [],
   "source": [
    "def insert(node, val):\n",
    "    \n",
    "    if node is None:\n",
    "        return Node(val) \n",
    "    \n",
    "    if val < node.val:\n",
    "        node.left = insert(node.left, val)\n",
    "        \n",
    "    elif val > node.val:\n",
    "        node.right = insert(node.right, val)\n",
    "        \n",
    "    return node"
   ]
  },
  {
   "cell_type": "markdown",
   "metadata": {},
   "source": [
    "## 2. Traversal"
   ]
  },
  {
   "cell_type": "code",
   "execution_count": null,
   "metadata": {},
   "outputs": [],
   "source": [
    "def inorder(root):\n",
    "    if root is not None:\n",
    "        inorder(root.left)\n",
    "        print(root.val, end=' ')\n",
    "        inorder(root.right)\n",
    "\n",
    "def preorder(root):\n",
    "    if root is not None:\n",
    "        print(root.val, end=' ')\n",
    "        preorder(root.left)\n",
    "        preorder(root.right)\n",
    "        \n",
    "def postorder(root):\n",
    "    if root is not None:\n",
    "        postorder(root.left)\n",
    "        postorder(root.right)\n",
    "        print(root.val, end=' ')"
   ]
  },
  {
   "cell_type": "code",
   "execution_count": null,
   "metadata": {},
   "outputs": [],
   "source": [
    "import random\n",
    "\n",
    "root = None\n",
    "\n",
    "nodes = [68, 72, 44, 84, 71, 64, 38]\n",
    "nodes = [10, 20, 30, 40, 50, 60, 70]\n",
    "nodes = [70, 60, 50, 40, 30, 20, 10]\n",
    "nodes = [73, 99, 48, 14, 86, 22, 94]\n",
    "\n",
    "for i in range(7):\n",
    "    root = insert(root, nodes[i])\n",
    "\n",
    "print(\"Nodes for BST: \", nodes)"
   ]
  },
  {
   "cell_type": "code",
   "execution_count": null,
   "metadata": {},
   "outputs": [],
   "source": [
    "inorder(root)"
   ]
  },
  {
   "cell_type": "code",
   "execution_count": null,
   "metadata": {},
   "outputs": [],
   "source": [
    "preorder(root)"
   ]
  },
  {
   "cell_type": "code",
   "execution_count": null,
   "metadata": {},
   "outputs": [],
   "source": [
    "postorder(root)"
   ]
  },
  {
   "cell_type": "markdown",
   "metadata": {},
   "source": [
    "## 3. Search"
   ]
  },
  {
   "cell_type": "code",
   "execution_count": null,
   "metadata": {},
   "outputs": [],
   "source": [
    "def search(root, val):\n",
    "    \n",
    "    if root is None or root.val == val:\n",
    "        return root\n",
    "    \n",
    "    if root.val < val:\n",
    "        return search(root.right, val)\n",
    "    \n",
    "    return search(root.left, val)"
   ]
  },
  {
   "cell_type": "code",
   "execution_count": null,
   "metadata": {},
   "outputs": [],
   "source": [
    "val = 60\n",
    "\n",
    "if search(root, val) is None:\n",
    "    print(val, \"not found\")\n",
    "else:\n",
    "    print(val, \"found\")\n",
    "\n",
    "val = 94\n",
    "\n",
    "if search(root, val) is None:\n",
    "    print(val, \"not found\")\n",
    "else:\n",
    "    print(val, \"found\")"
   ]
  },
  {
   "cell_type": "markdown",
   "metadata": {},
   "source": [
    "## 4. Deletion"
   ]
  },
  {
   "cell_type": "code",
   "execution_count": null,
   "metadata": {},
   "outputs": [],
   "source": [
    "def delete(root, val):\n",
    "    # Base case\n",
    "    if root is None:\n",
    "        return root\n",
    " \n",
    "    # Recursive calls for locating the node to be deleted\n",
    "    if root.val > val:\n",
    "        root.left = delete(root.left, val)\n",
    "        return root\n",
    "    elif root.val < val:\n",
    "        root.right = delete(root.right, val)\n",
    "        return root\n",
    "  \n",
    "    # If one of the children is empty\n",
    "    \n",
    "    if root.left is None:\n",
    "        temp = root.right\n",
    "        del root\n",
    "        return temp\n",
    "    \n",
    "    elif root.right is None:\n",
    "        temp = root.left\n",
    "        del root\n",
    "        return temp\n",
    " \n",
    "    # If both children exist\n",
    "    \n",
    "    else:\n",
    "        # Find successor\n",
    "        \n",
    "        succParent = root\n",
    "        succ = root.right\n",
    "        while succ.left is not None:\n",
    "            succParent = succ\n",
    "            succ = succ.left\n",
    " \n",
    "        if succParent != root:\n",
    "            succParent.left = succ.right\n",
    "        else:\n",
    "            succParent.right = succ.right\n",
    " \n",
    "        # Copy Successor Data to root\n",
    "        root.val = succ.val\n",
    " \n",
    "        # Delete Successor and return root\n",
    "        del succ\n",
    "        return root"
   ]
  },
  {
   "cell_type": "code",
   "execution_count": null,
   "metadata": {},
   "outputs": [],
   "source": [
    "print(\"Original BST: \", end='')\n",
    "inorder(root)\n",
    "\n",
    "print(\"\\n\\nDelete a Leaf Node: 22\")\n",
    "root = delete(root, 22)\n",
    "print(\"Modified BST tree after deleting Leaf Node:\")\n",
    "inorder(root)"
   ]
  },
  {
   "cell_type": "code",
   "execution_count": null,
   "metadata": {},
   "outputs": [],
   "source": [
    "print(\"Original BST: \", end='')\n",
    "inorder(root)\n",
    "\n",
    "print(\"\\n\\nDelete Node with single child: 48\")\n",
    "root = delete(root, 48)\n",
    "print(\"Modified BST tree after deleting single child Node:\")\n",
    "inorder(root)"
   ]
  },
  {
   "cell_type": "code",
   "execution_count": null,
   "metadata": {},
   "outputs": [],
   "source": [
    "print(\"Original BST: \", end='')\n",
    "inorder(root)\n",
    "\n",
    "print(\"\\n\\nDelete Node with both child: 73\")\n",
    "root = delete(root, 99)\n",
    "print(\"Modified BST tree after deleting both child Node:\")\n",
    "inorder(root)"
   ]
  },
  {
   "cell_type": "markdown",
   "metadata": {},
   "source": [
    "## 5. Maximum/Minimum"
   ]
  },
  {
   "cell_type": "code",
   "execution_count": null,
   "metadata": {},
   "outputs": [],
   "source": [
    "def maximum(root):    \n",
    "    while root.right != None:\n",
    "        root = root.right\n",
    "    print(root.val)\n",
    "\n",
    "def minimum(root):\n",
    "    while root.left != None:\n",
    "        root = root.left\n",
    "    print(root.val)"
   ]
  },
  {
   "cell_type": "code",
   "execution_count": null,
   "metadata": {},
   "outputs": [],
   "source": [
    "maximum(root)"
   ]
  },
  {
   "cell_type": "code",
   "execution_count": null,
   "metadata": {},
   "outputs": [],
   "source": [
    "minimum(root)"
   ]
  },
  {
   "cell_type": "markdown",
   "metadata": {},
   "source": [
    "## 6. BST Problems"
   ]
  },
  {
   "cell_type": "markdown",
   "metadata": {},
   "source": [
    "### Check if a binary tree is a BST or not.\n",
    "\n",
    "    "
   ]
  },
  {
   "cell_type": "markdown",
   "metadata": {},
   "source": [
    "### Check if a BST is balanced or not.\n",
    "\n",
    "    "
   ]
  },
  {
   "cell_type": "markdown",
   "metadata": {},
   "source": [
    "### Sum of k smallest elements in a BST.\n",
    "\n",
    "    "
   ]
  },
  {
   "cell_type": "markdown",
   "metadata": {},
   "source": [
    "### Convert a BST into min-heap."
   ]
  }
 ],
 "metadata": {
  "kernelspec": {
   "display_name": "Python 3 (ipykernel)",
   "language": "python",
   "name": "python3"
  },
  "language_info": {
   "codemirror_mode": {
    "name": "ipython",
    "version": 3
   },
   "file_extension": ".py",
   "mimetype": "text/x-python",
   "name": "python",
   "nbconvert_exporter": "python",
   "pygments_lexer": "ipython3",
   "version": "3.8.5"
  },
  "mimir": {
   "data": {},
   "last_submission_id": "",
   "project_id": "70342fc0-6851-4ef5-89fd-5f50ede58dc2"
  },
  "varInspector": {
   "cols": {
    "lenName": 16,
    "lenType": 16,
    "lenVar": 40
   },
   "kernels_config": {
    "python": {
     "delete_cmd_postfix": "",
     "delete_cmd_prefix": "del ",
     "library": "var_list.py",
     "varRefreshCmd": "print(var_dic_list())"
    },
    "r": {
     "delete_cmd_postfix": ") ",
     "delete_cmd_prefix": "rm(",
     "library": "var_list.r",
     "varRefreshCmd": "cat(var_dic_list()) "
    }
   },
   "types_to_exclude": [
    "module",
    "function",
    "builtin_function_or_method",
    "instance",
    "_Feature"
   ],
   "window_display": false
  }
 },
 "nbformat": 4,
 "nbformat_minor": 4
}
