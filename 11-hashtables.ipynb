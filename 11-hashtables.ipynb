{
 "cells": [
  {
   "cell_type": "markdown",
   "metadata": {
    "state": "normal"
   },
   "source": [
    "# Hashtables\n",
    "\n",
    "## Agenda\n",
    "\n",
    "1. The **Map** ADT\n",
    "2. Direct lookups via *Hashing*\n",
    "3. Hashtables\n",
    "4. `class` HashTable"
   ]
  },
  {
   "cell_type": "markdown",
   "metadata": {
    "state": "normal"
   },
   "source": [
    "## The **Map** ADT"
   ]
  },
  {
   "cell_type": "markdown",
   "metadata": {
    "state": "normal"
   },
   "source": [
    "We will focus next on the \"*map*\" abstract data type (aka \"associative array\" or \"dictionary\"), which is used to associate keys (which must be unique) with values. \n",
    "\n",
    "A map *does not* intrinsically impose any ordering on its contents --- i.e., an implementation of a map does not need to support positional access to keys, nor report a consistent view of key order.\n",
    "\n",
    "Python's `dict` type is an implementation of the map ADT. "
   ]
  },
  {
   "cell_type": "markdown",
   "metadata": {
    "state": "normal"
   },
   "source": [
    "## Direct lookups via *Hashing*"
   ]
  },
  {
   "cell_type": "markdown",
   "metadata": {
    "state": "normal"
   },
   "source": [
    "Hashes (a.k.a. hash codes or hash values) are simply numerical values computed for objects."
   ]
  },
  {
   "cell_type": "code",
   "execution_count": null,
   "metadata": {
    "state": "normal"
   },
   "outputs": [],
   "source": [
    "hash('hello')"
   ]
  },
  {
   "cell_type": "code",
   "execution_count": null,
   "metadata": {
    "state": "normal"
   },
   "outputs": [],
   "source": [
    "hash('batman')"
   ]
  },
  {
   "cell_type": "code",
   "execution_count": null,
   "metadata": {
    "state": "normal"
   },
   "outputs": [],
   "source": [
    "hash('batmen') "
   ]
  },
  {
   "cell_type": "code",
   "execution_count": null,
   "metadata": {
    "state": "normal"
   },
   "outputs": [],
   "source": [
    "[hash(s) for s in ['different', 'objects', 'have', 'very', 'different', 'hashes']]"
   ]
  },
  {
   "cell_type": "code",
   "execution_count": null,
   "metadata": {
    "state": "normal"
   },
   "outputs": [],
   "source": [
    "[hash(s)%100 for s in ['different', 'objects', 'have', 'very', 'different', 'hashes']]"
   ]
  },
  {
   "cell_type": "markdown",
   "metadata": {},
   "source": [
    "### Random Hashing"
   ]
  },
  {
   "cell_type": "markdown",
   "metadata": {},
   "source": [
    "The `hash` function in Python is *randomized* by default -- i.e., each time a Python interpreter is fired up, the implementation of `hash` will use a different \"seed\" for the random number generator used in computing hashes. While hashcodes computed for a given value will be consistent for a given interpreter instance, they will not be across instances! This means we shouldn't save hashcodes for values to disk, or save them to a database, as values will almost certainly hash to different hashcodes after we restart our software!"
   ]
  },
  {
   "cell_type": "markdown",
   "metadata": {
    "state": "normal"
   },
   "source": [
    "## Hashtables\n",
    "\n",
    "A **hashtable** is an implementation of the map ADT that uses the hash function for a key to compute an index into an linked-list where the corresponding key/value pair will be stored. "
   ]
  },
  {
   "cell_type": "code",
   "execution_count": null,
   "metadata": {},
   "outputs": [],
   "source": [
    "# Creating Hashtable as a nested list.\n",
    "HashTable = [[] for _ in range(10)]\n",
    "  \n",
    "# Hashing Function to return key for every value.\n",
    "def __hash__(key):\n",
    "    return key % len(HashTable)\n",
    "\n",
    "def __setitem__(Hashtable, key, value):\n",
    "    hash_key = __hash__(key)\n",
    "    Hashtable[hash_key].append(value)\n",
    "\n",
    "def __getitem__(Hashtable, key):\n",
    "    hash_key = __hash__(key)\n",
    "    return HashTable[hash_key]\n",
    "\n",
    "def __delitem__(Hashtable, key, value):\n",
    "    hash_key = __hash__(key)\n",
    "    Hashtable[hash_key].remove(value)\n",
    "\n",
    "def __display__(hashTable):\n",
    "    for i in range(len(hashTable)):\n",
    "        print(i, end = \" \")          \n",
    "        for j in hashTable[i]:\n",
    "            print(\"-->\", end = \" \")\n",
    "            print(j, end = \" \")             \n",
    "        print()"
   ]
  },
  {
   "cell_type": "code",
   "execution_count": null,
   "metadata": {},
   "outputs": [],
   "source": [
    "__setitem__(HashTable, 10, 'New York')\n",
    "__setitem__(HashTable, 25, 'Chicago')\n",
    "__setitem__(HashTable, 20, 'Boston')\n",
    "__setitem__(HashTable, 9, 'Los Angeles')\n",
    "__setitem__(HashTable, 21, 'Miami')\n",
    "__setitem__(HashTable, 21, 'Austin')\n",
    "  \n",
    "__display__(HashTable)"
   ]
  },
  {
   "cell_type": "code",
   "execution_count": null,
   "metadata": {},
   "outputs": [],
   "source": [
    "__delitem__(HashTable, 10, 'New York')\n",
    "__display__(HashTable)"
   ]
  },
  {
   "cell_type": "code",
   "execution_count": null,
   "metadata": {},
   "outputs": [],
   "source": [
    "__getitem__(HashTable, 1)"
   ]
  },
  {
   "cell_type": "markdown",
   "metadata": {
    "state": "normal"
   },
   "source": [
    "## Addendum: On *Hashability*"
   ]
  },
  {
   "cell_type": "markdown",
   "metadata": {
    "state": "normal"
   },
   "source": [
    "Remember: *a given object must always hash to the same value*. This is required so that we can always map the object to the same hash bucket.\n",
    "\n",
    "Hashcodes for collections of objects are usually computed from the hashcodes of its contents, e.g., the hash of a tuple is a function of the hashes of the objects in said tuple:"
   ]
  },
  {
   "cell_type": "code",
   "execution_count": null,
   "metadata": {
    "state": "normal"
   },
   "outputs": [],
   "source": [
    "hash(('two', 'strings'))"
   ]
  },
  {
   "cell_type": "markdown",
   "metadata": {
    "state": "normal"
   },
   "source": [
    "This is useful. It allows us to use a tuple, for instance, as a key for a hashtable.\n",
    "\n",
    "However, if the collection of objects is *mutable* — i.e., we can alter its contents — this means that we can potentially change its hashcode.`\n",
    "\n",
    "If we were to use such a collection as a key in a hashtable, and alter the collection after it's been assigned to a particular bucket, this leads to a serious problem: the collection may now be in the wrong bucket (as it was assigned to a bucket based on its original hashcode)!\n",
    "\n",
    "For this reason, only immutable types are, by default, hashable in Python. So while we can use integers, strings, and tuples as keys in dictionaries, lists (which are mutable) cannot be used. Indeed, Python marks built-in mutable types as \"unhashable\", e.g.,"
   ]
  },
  {
   "cell_type": "code",
   "execution_count": null,
   "metadata": {
    "state": "normal"
   },
   "outputs": [],
   "source": [
    "hash([1, 2, 3])"
   ]
  },
  {
   "cell_type": "markdown",
   "metadata": {
    "state": "normal"
   },
   "source": [
    "## `class` HashTable"
   ]
  },
  {
   "cell_type": "code",
   "execution_count": null,
   "metadata": {
    "state": "normal"
   },
   "outputs": [],
   "source": [
    "class HashTable:\n",
    "    \n",
    "    class Node:\n",
    "        def __init__(self, key, value):\n",
    "            self.key = key\n",
    "            self.value = value\n",
    "            self.next = None\n",
    "            \n",
    "    def __init__(self, n_buckets):\n",
    "        self.n_buckets = n_buckets\n",
    "        self.count = 0\n",
    "        self.table = [None] * n_buckets\n",
    "  \n",
    "    def __hash__(self, key):\n",
    "        return hash(key) % self.n_buckets\n",
    "  \n",
    "    def __setitem__(self, key, value):\n",
    "        index = self.__hash__(key)\n",
    "        if self.table[index] is None:\n",
    "            self.table[index] = HashTable.Node(key, value)\n",
    "            self.count += 1\n",
    "        else:\n",
    "            current = self.table[index]\n",
    "            while current:\n",
    "                if current.key == key:\n",
    "                    current.value = value\n",
    "                    return\n",
    "                current = current.next\n",
    "            new_node = HashTable.Node(key, value)\n",
    "            new_node.next = self.table[index]\n",
    "            self.table[index] = new_node\n",
    "            self.count += 1\n",
    "  \n",
    "    def __getitem__(self, key):\n",
    "        items = []\n",
    "        index = self.__hash__(key) \n",
    "        current = self.table[index]\n",
    "        while current:\n",
    "            items.append(current.value)\n",
    "            current = current.next\n",
    "        return items\n",
    "  \n",
    "    def __delitem__(self, key):\n",
    "        index = self.__hash__(key)  \n",
    "        previous = None\n",
    "        current = self.table[index] \n",
    "        while current:\n",
    "            if current.key == key:\n",
    "                if previous:\n",
    "                    previous.next = current.next\n",
    "                else:\n",
    "                    self.table[index] = current.next\n",
    "                self.count -= 1\n",
    "                return\n",
    "            previous = current\n",
    "            current = current.next  \n",
    "        raise KeyError(key)\n",
    "  \n",
    "    def __len__(self):\n",
    "        return self.count\n",
    "    \n",
    "    def __display__(self):\n",
    "        for i in range(self.n_buckets):\n",
    "            print(i, end = \" \")\n",
    "            current = self.table[i]       \n",
    "            while current:\n",
    "                print(\"-->\", end = \" \")\n",
    "                print(current.value, end = \" \")\n",
    "                current = current.next\n",
    "            print()"
   ]
  },
  {
   "cell_type": "code",
   "execution_count": null,
   "metadata": {},
   "outputs": [],
   "source": [
    "ht = HashTable(5)\n",
    "\n",
    "# Create the hash table\n",
    "ht.__setitem__(3, \"apple\")\n",
    "ht.__setitem__(2, \"banana\")\n",
    "ht.__setitem__(5, \"cherry\")\n",
    "ht.__setitem__(3, \"grape\")\n",
    "ht.__setitem__(1, \"watermelon\")\n",
    "ht.__setitem__(6, \"peach\")\n",
    "ht.__setitem__(9, \"avocado\")\n",
    "\n",
    "# Display the hash table\n",
    "ht.__display__()"
   ]
  },
  {
   "cell_type": "code",
   "execution_count": null,
   "metadata": {},
   "outputs": [],
   "source": [
    "#Get the value for a key\n",
    "print(ht.__getitem__(1))\n",
    "\n",
    "# Update the value for a key\n",
    "ht.__setitem__(4, \"apple\")\n",
    "print(ht.__getitem__(4))\n",
    "\n",
    "# Delete an entry\n",
    "ht.__delitem__(3)\n",
    "\n",
    "# Display the hash table\n",
    "ht.__display__()"
   ]
  },
  {
   "cell_type": "code",
   "execution_count": null,
   "metadata": {},
   "outputs": [],
   "source": [
    "ht = HashTable(5)\n",
    "\n",
    "# Create the hash table\n",
    "ht.__setitem__(\"apple\", 3)\n",
    "ht.__setitem__(\"banana\", 2)\n",
    "ht.__setitem__(\"cherry\", 5)\n",
    "ht.__setitem__(\"grape\", 6)\n",
    "ht.__setitem__(\"watermelon\", 8)\n",
    "ht.__setitem__(\"peach\", 1)\n",
    "ht.__setitem__(\"cherry\", 9)\n",
    "\n",
    "# Display the hash table\n",
    "ht.__display__()"
   ]
  },
  {
   "cell_type": "code",
   "execution_count": null,
   "metadata": {},
   "outputs": [],
   "source": [
    "print(hash(\"apple\"))\n",
    "print(hash(\"banana\"))\n",
    "print(hash(\"cherry\"))\n",
    "print(hash(\"grape\"))\n",
    "print(hash(\"watermelon\"))\n",
    "print(hash(\"peach\"))"
   ]
  }
 ],
 "metadata": {
  "kernelspec": {
   "display_name": "Python 3 (ipykernel)",
   "language": "python",
   "name": "python3"
  },
  "language_info": {
   "codemirror_mode": {
    "name": "ipython",
    "version": 3
   },
   "file_extension": ".py",
   "mimetype": "text/x-python",
   "name": "python",
   "nbconvert_exporter": "python",
   "pygments_lexer": "ipython3",
   "version": "3.8.5"
  },
  "mimir": {
   "data": {},
   "last_submission_id": "",
   "project_id": "aa73d4af-4b00-400e-8c6c-d83178fea3c6"
  },
  "varInspector": {
   "cols": {
    "lenName": 16,
    "lenType": 16,
    "lenVar": 40
   },
   "kernels_config": {
    "python": {
     "delete_cmd_postfix": "",
     "delete_cmd_prefix": "del ",
     "library": "var_list.py",
     "varRefreshCmd": "print(var_dic_list())"
    },
    "r": {
     "delete_cmd_postfix": ") ",
     "delete_cmd_prefix": "rm(",
     "library": "var_list.r",
     "varRefreshCmd": "cat(var_dic_list()) "
    }
   },
   "types_to_exclude": [
    "module",
    "function",
    "builtin_function_or_method",
    "instance",
    "_Feature"
   ],
   "window_display": false
  }
 },
 "nbformat": 4,
 "nbformat_minor": 4
}
