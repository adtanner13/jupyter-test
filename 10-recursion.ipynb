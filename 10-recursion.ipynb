{
 "cells": [
  {
   "cell_type": "markdown",
   "metadata": {
    "state": "normal"
   },
   "source": [
    "# Recursion"
   ]
  },
  {
   "cell_type": "markdown",
   "metadata": {
    "state": "normal"
   },
   "source": [
    "## Agenda\n",
    "\n",
    "1. Sum\n",
    "2. Factorial\n",
    "3. Binary search\n",
    "4. Fibonacci sequence\n",
    "5. Tower of Hanoi\n",
    "6. MergeSort\n",
    "6. The Call Stack"
   ]
  },
  {
   "cell_type": "markdown",
   "metadata": {
    "state": "normal"
   },
   "source": [
    "### 1. Sum (of input ≥ 0)\n",
    "\n",
    "$sum(n) = \\begin{cases}\n",
    "        0 & \\text{if}\\ n=0 \\\\\n",
    "        n + sum(n-1) & \\text{if}\\ n>0\n",
    "      \\end{cases}$\n",
    "\n",
    "\n",
    "E.g., \n",
    "\n",
    "$\n",
    "\\begin{align}\n",
    "sum(5) & = 5 + sum(4)\\\\\n",
    "       & = 5 + 4 + sum(3)\\\\\n",
    "       & = 5 + 4 + 3 + sum(2)\\\\\n",
    "       & = 5 + 4 + 3 + 2 + sum(1)\\\\\n",
    "       & = 5 + 4 + 3 + 2 + 1 + sum(0)\\\\\n",
    "       & = 5 + 4 + 3 + 2 + 1 + 0\n",
    "\\end{align}\n",
    "$"
   ]
  },
  {
   "cell_type": "code",
   "execution_count": null,
   "metadata": {
    "state": "normal"
   },
   "outputs": [],
   "source": [
    "n = 0\n",
    "def sum(n):\n",
    "    if n == 0:\n",
    "        return 0\n",
    "    else:\n",
    "        return n + sum(n - 1)"
   ]
  },
  {
   "cell_type": "code",
   "execution_count": null,
   "metadata": {
    "state": "normal"
   },
   "outputs": [],
   "source": [
    "sum(5)"
   ]
  },
  {
   "cell_type": "markdown",
   "metadata": {
    "state": "normal"
   },
   "source": [
    "### 2. Factorial\n",
    "\n",
    "$n! = \\begin{cases}\n",
    "        1 & \\text{if}\\ n=0 \\\\\n",
    "        n \\cdot (n-1)! & \\text{if}\\ n>0\n",
    "      \\end{cases}$"
   ]
  },
  {
   "cell_type": "code",
   "execution_count": null,
   "metadata": {
    "state": "normal"
   },
   "outputs": [],
   "source": [
    "def factorial(n):\n",
    "    if n == 0 or n==1:\n",
    "        return 1\n",
    "    else:\n",
    "        return n * factorial(n - 1)"
   ]
  },
  {
   "cell_type": "code",
   "execution_count": null,
   "metadata": {
    "state": "normal"
   },
   "outputs": [],
   "source": [
    "factorial(5)"
   ]
  },
  {
   "cell_type": "markdown",
   "metadata": {
    "state": "normal"
   },
   "source": [
    "### 3. Binary search"
   ]
  },
  {
   "cell_type": "code",
   "execution_count": null,
   "metadata": {
    "state": "normal"
   },
   "outputs": [],
   "source": [
    "def binarySearch(arr, l, r, x): \n",
    "    if r >= l:\n",
    "        mid = l + (r - l) // 2\n",
    "        if arr[mid] == x:\n",
    "            return mid \n",
    "        elif arr[mid] > x:\n",
    "            return binarySearch(arr, l, mid-1, x) \n",
    "        else:\n",
    "            return binarySearch(arr, mid + 1, r, x) \n",
    "    else:\n",
    "        return -1"
   ]
  },
  {
   "cell_type": "code",
   "execution_count": null,
   "metadata": {},
   "outputs": [],
   "source": [
    "arr = [2, 3, 4, 10, 40]\n",
    "x = 10\n",
    "     \n",
    "result = binarySearch(arr, 0, len(arr)-1, x)\n",
    "\n",
    "if result != -1:\n",
    "    print(\"Element is present at index\", result)\n",
    "else:\n",
    "    print(\"Element is not present in array\")"
   ]
  },
  {
   "cell_type": "markdown",
   "metadata": {
    "state": "normal"
   },
   "source": [
    "### 4. Fibonacci numbers\n",
    "\n",
    "$fib(n) = \\begin{cases}\n",
    "            0 & \\text{if}\\ n=0 \\\\\n",
    "            1 & \\text{if}\\ n=1 \\\\\n",
    "            fib(n-1) + fib(n-2) & \\text{otherwise}\n",
    "          \\end{cases}$\n",
    "          \n",
    "i.e., 0, 1, 1, 2, 3, 5, 8, 13, 21, ..."
   ]
  },
  {
   "cell_type": "code",
   "execution_count": null,
   "metadata": {
    "state": "normal"
   },
   "outputs": [],
   "source": [
    "def fib(n):\n",
    "    if n == 0:\n",
    "        return 0\n",
    "    elif n == 1:\n",
    "        return 1\n",
    "    else:\n",
    "        return fib(n-1) + fib(n-2)"
   ]
  },
  {
   "cell_type": "code",
   "execution_count": null,
   "metadata": {},
   "outputs": [],
   "source": [
    "[fib(i) for i in range(15)]"
   ]
  },
  {
   "cell_type": "markdown",
   "metadata": {
    "state": "normal"
   },
   "source": [
    "### 5. Tower of Hanoi\n",
    "\n",
    "Setup: three rods, with one or more discs of different sizes all stacked on one rod, smallest (top) to largest (bottom). E.g.,\n",
    "\n",
    "         ||          ||          ||     \n",
    "         ==          ||          ||     \n",
    "        ====         ||          ||     \n",
    "       ======        ||          ||     \n",
    "    ------------------------------------\n",
    "    \n",
    "Goal: move all the discs, one by one, to another rod, with the rules being that (1) only smaller discs can be stacked on larger ones and (2) only the top disc in a stack can be moved to another rod.\n",
    "\n",
    "For three discs, as shown above, we would carry out the following sequence to move the stack to the rightmost rod. The rods are abbreviated L (left), M (middle), R (right):\n",
    "1. Move the small disc (0) from L to R\n",
    "2. Move the medium disc (1) from L to M\n",
    "3. Move 0 from R to M (R is empty)\n",
    "4. Move the large disc (2) from L to R\n",
    "5. Move 0 from M to L\n",
    "6. Move 1 from M to R\n",
    "7. Move 0 from L to R (done)\n",
    "\n",
    "Can you come up with the sequence needed to move a stack of 4 discs from one rod to another? 5 discs? An arbitrary number of discs?"
   ]
  },
  {
   "cell_type": "code",
   "execution_count": null,
   "metadata": {},
   "outputs": [],
   "source": [
    "def TowerOfHanoi(n , source, destination, auxiliary):\n",
    "    if n==1:\n",
    "        print (\"Move disk 1 from source\",source,\"to destination\",destination)\n",
    "        return\n",
    "    TowerOfHanoi(n-1, source, auxiliary, destination)\n",
    "    print (\"Move disk\",n,\"from source\",source,\"to destination\",destination)\n",
    "    TowerOfHanoi(n-1, auxiliary, destination, source)"
   ]
  },
  {
   "cell_type": "code",
   "execution_count": null,
   "metadata": {
    "state": "normal"
   },
   "outputs": [],
   "source": [
    "n = 1\n",
    "TowerOfHanoi(n,'A','B','C')"
   ]
  },
  {
   "cell_type": "markdown",
   "metadata": {
    "state": "normal"
   },
   "source": [
    "### 6. MergeSort"
   ]
  },
  {
   "cell_type": "code",
   "execution_count": null,
   "metadata": {
    "state": "normal"
   },
   "outputs": [],
   "source": [
    "def merge(arr, p, q, r):\n",
    "    n1 = q - p + 1\n",
    "    n2 = r - q\n",
    " \n",
    "    # create temp arrays\n",
    "    L = [0] * (n1)\n",
    "    R = [0] * (n2)\n",
    " \n",
    "    # Copy data to temp arrays L[] and R[]\n",
    "    for i in range(0, n1):\n",
    "        L[i] = arr[p + i]\n",
    " \n",
    "    for j in range(0, n2):\n",
    "        R[j] = arr[q + 1 + j]\n",
    " \n",
    "    # Merge the temp arrays back into arr[l..r]\n",
    "    i = 0     # Initial index of first subarray\n",
    "    j = 0     # Initial index of second subarray\n",
    "    k = p     # Initial index of merged subarray\n",
    " \n",
    "    while i < n1 and j < n2:\n",
    "        if L[i] <= R[j]:\n",
    "            arr[k] = L[i]\n",
    "            i += 1\n",
    "        else:\n",
    "            arr[k] = R[j]\n",
    "            j += 1\n",
    "        k += 1\n",
    " \n",
    "    # Copy the remaining elements of L[], if there are any\n",
    "    while i < n1:\n",
    "        arr[k] = L[i]\n",
    "        i += 1\n",
    "        k += 1\n",
    " \n",
    "    # Copy the remaining elements of R[], if there are any\n",
    "    while j < n2:\n",
    "        arr[k] = R[j]\n",
    "        j += 1\n",
    "        k += 1"
   ]
  },
  {
   "cell_type": "code",
   "execution_count": null,
   "metadata": {},
   "outputs": [],
   "source": [
    "def mergeSort(arr, p, r):\n",
    "    if p < r: \n",
    "        q = p + (r - p) // 2\n",
    "        mergeSort(arr, p, q)\n",
    "        mergeSort(arr, q+1, r)\n",
    "        merge(arr, p, q, r)"
   ]
  },
  {
   "cell_type": "code",
   "execution_count": null,
   "metadata": {},
   "outputs": [],
   "source": [
    "arr = [12, 11, 13, 5, 6, 7, 0, 99, 44]\n",
    "\n",
    "n = len(arr)\n",
    "\n",
    "print(\"Given array is\")\n",
    "for i in range(n):\n",
    "    print(arr[i],end=\" \")\n",
    "\n",
    "mergeSort(arr, 0, n-1)\n",
    "\n",
    "print(\"\\n\\nSorted array is\")\n",
    "for i in range(n):\n",
    "    print(arr[i],end=\" \")"
   ]
  },
  {
   "cell_type": "code",
   "execution_count": null,
   "metadata": {
    "state": "normal"
   },
   "outputs": [],
   "source": [
    "import timeit\n",
    "import random\n",
    "\n",
    "mergesort_times = []\n",
    "\n",
    "for size in range(100, 3000, 100):\n",
    "    mergesort_times.append(timeit.timeit(stmt='mergeSort(lst,0,len(lst)-1)',\n",
    "                               setup=f'lst = random.sample(range(10000), {size})',\n",
    "                               globals=globals(),\n",
    "                               number=10))"
   ]
  },
  {
   "cell_type": "code",
   "execution_count": null,
   "metadata": {
    "state": "normal"
   },
   "outputs": [],
   "source": [
    "import matplotlib.pyplot as plt\n",
    "\n",
    "plt.plot(mergesort_times, 'ro');\n",
    "plt.show()"
   ]
  },
  {
   "cell_type": "markdown",
   "metadata": {
    "state": "normal"
   },
   "source": [
    "### 7. The Call Stack"
   ]
  },
  {
   "cell_type": "markdown",
   "metadata": {
    "state": "normal"
   },
   "source": [
    "Much of the power of recursion stems from the fact that each recursive call \"remembers\" its state -- i.e., it keeps track of:\n",
    "\n",
    "- the values of local variables\n",
    "- where it left off\n",
    "- what it still has left to do (e.g., other recursive calls, in the case of tree recursion)\n",
    "\n",
    "This is possible because each recursive function call (in fact, *all* function calls) allocate space on the **call stack** in a predictable way. Each entry on the call stack --- known as a stack frame or activation record --- is used to save the state of an executing function."
   ]
  },
  {
   "cell_type": "markdown",
   "metadata": {},
   "source": [
    "Consider the recursive Fibonacci generator function:"
   ]
  },
  {
   "cell_type": "code",
   "execution_count": null,
   "metadata": {},
   "outputs": [],
   "source": [
    "def fib(n):\n",
    "    if n == 0:\n",
    "        return 0\n",
    "    elif n == 1:\n",
    "        return 1\n",
    "    else:\n",
    "        return fib(n-1) + fib(n-2)"
   ]
  },
  {
   "cell_type": "markdown",
   "metadata": {},
   "source": [
    "Each time `fib` is called with $n>1$, we must keep track of two separate recursive calls (and their arguments), whose results must then be summed up before returning."
   ]
  },
  {
   "cell_type": "markdown",
   "metadata": {},
   "source": [
    "### Simulating recursion with a stack\n",
    "\n",
    "Any recursive function can be re-implemented iteratively (i.e., using one or more loops) through the use of an explicit supporting stack data structure!"
   ]
  },
  {
   "cell_type": "code",
   "execution_count": null,
   "metadata": {},
   "outputs": [],
   "source": [
    "def fib(n):\n",
    "    stack = [n]\n",
    "    result = 0\n",
    "    while stack:\n",
    "        print(stack)\n",
    "        n = stack.pop()\n",
    "        if n == 0:\n",
    "            result += 0\n",
    "        elif n == 1:\n",
    "            result += 1\n",
    "        else:\n",
    "            stack.append(n-1)\n",
    "            stack.append(n-2)\n",
    "    return result"
   ]
  },
  {
   "cell_type": "code",
   "execution_count": null,
   "metadata": {},
   "outputs": [],
   "source": [
    "fib(7)"
   ]
  },
  {
   "cell_type": "markdown",
   "metadata": {},
   "source": [
    "Even though we *can* re-implement recursion using an explicit stack, doing so often leads to much less legible (and harder to maintain) code. Recursion often yields much more intuitive, elegant code!"
   ]
  }
 ],
 "metadata": {
  "kernelspec": {
   "display_name": "Python 3 (ipykernel)",
   "language": "python",
   "name": "python3"
  },
  "language_info": {
   "codemirror_mode": {
    "name": "ipython",
    "version": 3
   },
   "file_extension": ".py",
   "mimetype": "text/x-python",
   "name": "python",
   "nbconvert_exporter": "python",
   "pygments_lexer": "ipython3",
   "version": "3.8.5"
  },
  "mimir": {
   "data": {},
   "last_submission_id": "",
   "project_id": "a34a94f3-896f-434b-962f-1ec01093d513"
  },
  "varInspector": {
   "cols": {
    "lenName": 16,
    "lenType": 16,
    "lenVar": 40
   },
   "kernels_config": {
    "python": {
     "delete_cmd_postfix": "",
     "delete_cmd_prefix": "del ",
     "library": "var_list.py",
     "varRefreshCmd": "print(var_dic_list())"
    },
    "r": {
     "delete_cmd_postfix": ") ",
     "delete_cmd_prefix": "rm(",
     "library": "var_list.r",
     "varRefreshCmd": "cat(var_dic_list()) "
    }
   },
   "types_to_exclude": [
    "module",
    "function",
    "builtin_function_or_method",
    "instance",
    "_Feature"
   ],
   "window_display": false
  }
 },
 "nbformat": 4,
 "nbformat_minor": 4
}
