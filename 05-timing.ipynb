{
 "cells": [
  {
   "cell_type": "markdown",
   "metadata": {
    "state": "normal"
   },
   "source": [
    "# Timing and Plotting"
   ]
  },
  {
   "cell_type": "markdown",
   "metadata": {
    "state": "normal"
   },
   "source": [
    "## Agenda\n",
    "\n",
    "1. Timing\n",
    "2. The `timeit` module\n",
    "3. Drawing plots with `matplotlib`\n",
    "4. Timing plots"
   ]
  },
  {
   "cell_type": "markdown",
   "metadata": {
    "state": "normal"
   },
   "source": [
    "## 1. Timing"
   ]
  },
  {
   "cell_type": "markdown",
   "metadata": {
    "state": "normal"
   },
   "source": [
    "The [`time`](https://docs.python.org/3/library/time.html#module-time) module contains functions for obtaining and interpreting the current system time."
   ]
  },
  {
   "cell_type": "code",
   "execution_count": null,
   "metadata": {
    "state": "normal"
   },
   "outputs": [],
   "source": [
    "import time\n",
    "time.time() # seconds since the \"epoch\""
   ]
  },
  {
   "cell_type": "code",
   "execution_count": null,
   "metadata": {},
   "outputs": [],
   "source": [
    "time.time() // (365 * 24 * 60 * 60)"
   ]
  },
  {
   "cell_type": "markdown",
   "metadata": {
    "state": "normal"
   },
   "source": [
    "By taking start and stop \"timestamps\", we can measure the runtime of code:"
   ]
  },
  {
   "cell_type": "code",
   "execution_count": null,
   "metadata": {
    "state": "normal"
   },
   "outputs": [],
   "source": [
    "time.sleep(5)"
   ]
  },
  {
   "cell_type": "markdown",
   "metadata": {
    "state": "normal"
   },
   "source": [
    "## 2. The `timeit` module\n",
    "\n",
    "The [`timeit`](https://docs.python.org/3/library/timeit.html) module is a built-in library for measuring the execution of code passed in as a string."
   ]
  },
  {
   "cell_type": "markdown",
   "metadata": {},
   "source": [
    "`timeit.timeit(stmt, setup, timer, number)`\n",
    "\n",
    "1. stmt which is the statement you want to measure.\n",
    "2. setup which is the code that you run before running the stmt. \n",
    "3. timer which is a timeit.Timer object; it usually has a sensible default value so you don’t have to worry about it.\n",
    "4. the number which is the number of executions you’d like to run the stmt.\n",
    "\n",
    "Returns the number of seconds it took to execute the code."
   ]
  },
  {
   "cell_type": "code",
   "execution_count": null,
   "metadata": {
    "state": "normal"
   },
   "outputs": [],
   "source": [
    "import timeit\n",
    "timeit.timeit('sum(range(10000))', number=1000)"
   ]
  },
  {
   "cell_type": "code",
   "execution_count": null,
   "metadata": {
    "state": "normal"
   },
   "outputs": [],
   "source": [
    "timeit.timeit('sum(r)', setup='r=range(10000)', number=1000)"
   ]
  },
  {
   "cell_type": "markdown",
   "metadata": {
    "state": "normal"
   },
   "source": [
    "We can easily use this to gather timings for multiple input values:"
   ]
  },
  {
   "cell_type": "code",
   "execution_count": null,
   "metadata": {
    "state": "normal"
   },
   "outputs": [],
   "source": [
    "[timeit.timeit('sum(r)',\n",
    "               setup=f'r = range({n})',\n",
    "               number=1000)\n",
    "     for n in range(1, 10000, 1000)]"
   ]
  },
  {
   "cell_type": "markdown",
   "metadata": {
    "state": "normal"
   },
   "source": [
    "Sometimes we might want to make use of functions defined in our notebook in the timed/setup code passed to `timeit`. We need to use the `globals` argument for this:"
   ]
  },
  {
   "cell_type": "code",
   "execution_count": null,
   "metadata": {
    "state": "normal"
   },
   "outputs": [],
   "source": [
    "def fib(n):\n",
    "    if n == 0:\n",
    "        return 0\n",
    "    elif n == 1:\n",
    "        return 1\n",
    "    else:\n",
    "        return fib(n-1) + fib(n-2)"
   ]
  },
  {
   "cell_type": "code",
   "execution_count": null,
   "metadata": {
    "state": "normal"
   },
   "outputs": [],
   "source": [
    "[fib(n) for n in range(15)]"
   ]
  },
  {
   "cell_type": "code",
   "execution_count": null,
   "metadata": {
    "state": "normal"
   },
   "outputs": [],
   "source": [
    "[timeit.timeit(f'fib({n})',\n",
    "               number=1000,\n",
    "               globals=globals()) # \"globals()\" returns a dict of everything\n",
    "                                  # defined in this module\n",
    " for n in range(1, 15)]"
   ]
  },
  {
   "cell_type": "markdown",
   "metadata": {
    "state": "normal"
   },
   "source": [
    "## 3. Drawing plots with `matplotlib`\n",
    "\n",
    "The [matplotlib library](https://matplotlib.org) supports the creation of all sorts of visualizations. We will use it for drawing simple 2-dimensional plots.\n",
    "\n",
    "The primary plotting function we will use is `matplotlib.pyplot.plot` ([full documentation here](https://matplotlib.org/api/_as_gen/matplotlib.pyplot.plot.html#matplotlib.pyplot.plot)), which, when passed two \"array-like\" objects of equal length, will interpret and plot their contents as x and y axis coordinates. We will generally use tuples, lists, and ranges as array-like objects. Note that generators are *not* considered array-like by matplotlib.\n",
    "\n",
    "Some examples (note that we use a semicolon after the call to `plot` to hide its return value):"
   ]
  },
  {
   "cell_type": "code",
   "execution_count": null,
   "metadata": {
    "state": "normal"
   },
   "outputs": [],
   "source": [
    "import math\n",
    "import numpy as np\n",
    "import matplotlib.pyplot as plt\n",
    "\n",
    "plt.rcParams['figure.figsize'] = [10, 6] # set size of plot"
   ]
  },
  {
   "cell_type": "code",
   "execution_count": null,
   "metadata": {
    "state": "normal"
   },
   "outputs": [],
   "source": [
    "plt.plot([1, 2, 3, 4, 5],        # x-axis vals\n",
    "         [50, 20, 30, 10, 40]);  # y-axis vals"
   ]
  },
  {
   "cell_type": "code",
   "execution_count": null,
   "metadata": {
    "state": "normal"
   },
   "outputs": [],
   "source": [
    "xs = range(11)\n",
    "ys = [x*2 for x in xs]\n",
    "plt.plot(xs, ys);"
   ]
  },
  {
   "cell_type": "markdown",
   "metadata": {
    "state": "normal"
   },
   "source": [
    "We can also provide an optional format string to `plot`, which controls marker, line-style, and color for the plot.\n",
    "\n",
    "Here's a shortened list of options copied from the [full documentation of `plot`](https://matplotlib.org/api/_as_gen/matplotlib.pyplot.plot.html#matplotlib.pyplot.plot):\n",
    "\n",
    "**Markers**\n",
    "\n",
    "  - `.` : point marker\n",
    "  - `o` : circle marker\n",
    "  - `s` : square marker\n",
    "  - `d` : diamond marker\n",
    "\n",
    "**Line-styles**\n",
    " \n",
    "  - `-` : solid line style\n",
    "  - `--` : dashed line style\n",
    "  - `:` : dotted line style\n",
    "\n",
    "**Colors**\n",
    "\n",
    "  - `k` : black\n",
    "  - `r` : red\n",
    "  - `g` : blue\n",
    "  - `b` : green\n",
    "  - `y` : yellow\n",
    "  - `c` : cyan\n",
    "  \n",
    "Here are the above plots with some color and styling (if we omit a line style no connecting line is drawn between data points):"
   ]
  },
  {
   "cell_type": "code",
   "execution_count": null,
   "metadata": {
    "state": "normal"
   },
   "outputs": [],
   "source": [
    "plt.plot([1, 2, 3, 4, 5], \n",
    "         [50, 20, 30, 10, 40], \n",
    "         'o--k');"
   ]
  },
  {
   "cell_type": "code",
   "execution_count": null,
   "metadata": {
    "state": "normal"
   },
   "outputs": [],
   "source": [
    "xs = range(11)\n",
    "ys = [x*2 for x in xs]\n",
    "plt.plot(xs, ys, 'dg');"
   ]
  },
  {
   "cell_type": "markdown",
   "metadata": {
    "state": "normal"
   },
   "source": [
    "Instead of regular `range` objects, which only allow for integral start/stop/step values, we typically prefer to use the [numpy library](https://numpy.org)'s `arange` and `linspace` functions with matplotlib. `arange` is like `range`, except we can use floating point values for start/stop/step. `linspace` lets us specify start and stop values (both inclusive), and the number of values to return in that interval.\n",
    "\n",
    "Examples of `arange` and `linspace` calls (note that both functions return numpy arrays, which are iterable and can be passed to `plot`):"
   ]
  },
  {
   "cell_type": "code",
   "execution_count": null,
   "metadata": {
    "state": "normal"
   },
   "outputs": [],
   "source": [
    "np.arange(0.5, 2.5, 0.1)"
   ]
  },
  {
   "cell_type": "code",
   "execution_count": null,
   "metadata": {
    "state": "normal"
   },
   "outputs": [],
   "source": [
    "np.linspace(1, 10, 20)"
   ]
  },
  {
   "cell_type": "code",
   "execution_count": null,
   "metadata": {
    "state": "normal"
   },
   "outputs": [],
   "source": [
    "np.linspace(1, 100000, 50, dtype=int) # we can specify the data type \n",
    "                                       # to coerce values into integers"
   ]
  },
  {
   "cell_type": "markdown",
   "metadata": {
    "state": "normal"
   },
   "source": [
    "`plot` can be called multiple times in the same cell to draw multiple lines in the same chart. Below we use this facility together with `linspace` and a handful of list comprehensions to plot some common runtime complexity bounding functions (more on that soon) over a small interval: "
   ]
  },
  {
   "cell_type": "code",
   "execution_count": null,
   "metadata": {
    "state": "normal"
   },
   "outputs": [],
   "source": [
    "count = 100\n",
    "xs = np.linspace(0.1, 5, count)\n",
    "ys_const        = [1] * count\n",
    "ys_log          = [math.log(x) for x in xs]\n",
    "ys_linear       = [x for x in xs]\n",
    "ys_linearithmic = [x * math.log(x) for x in xs]\n",
    "ys_quadratic    = [x**2 for x in xs]\n",
    "ys_exponential  = [2**x for x in xs]\n",
    "\n",
    "plt.plot(xs, ys_const, 'c')\n",
    "plt.plot(xs, ys_log, 'r')\n",
    "plt.plot(xs, ys_linear, 'b')\n",
    "plt.plot(xs, ys_linearithmic, 'g')\n",
    "plt.plot(xs, ys_quadratic, 'y');\n",
    "plt.plot(xs, ys_exponential, 'm');"
   ]
  },
  {
   "cell_type": "markdown",
   "metadata": {
    "state": "normal"
   },
   "source": [
    "## 4. Plotting timings"
   ]
  },
  {
   "cell_type": "markdown",
   "metadata": {
    "state": "normal"
   },
   "source": [
    "Plotting timing data collected from functions may help give us a sense of how their runtimes scale with increasing input sizes."
   ]
  },
  {
   "cell_type": "code",
   "execution_count": null,
   "metadata": {
    "state": "normal"
   },
   "outputs": [],
   "source": [
    "# runtimes for sum for increasing sizes of input\n",
    "\n",
    "ns = np.linspace(10, 10000, 50, dtype=int)\n",
    "ts = [timeit.timeit(f'sum(range({n}))', \n",
    "                    number=1000)\n",
    "      for n in ns]\n",
    "plt.plot(ns, ts, 'or');"
   ]
  },
  {
   "cell_type": "markdown",
   "metadata": {
    "state": "normal"
   },
   "source": [
    "Clearly, the runtime of `sum` is directly proportional to the number of values it operates on. \n",
    "\n",
    "If we assume a linear relationship, we can compute the average slope between adjacent data points to come up with an line of approximate fit that may help us predict the runtime of `sum`."
   ]
  },
  {
   "cell_type": "code",
   "execution_count": null,
   "metadata": {
    "state": "normal"
   },
   "outputs": [],
   "source": [
    "total = 0\n",
    "\n",
    "for i in range(len(ns)-1):\n",
    "    total += (ts[i+1] - ts[i]) / (ns[i+1] - ns[i]) # slope = y / x\n",
    "    \n",
    "avg_slope = total / (len(ns)-1)"
   ]
  },
  {
   "cell_type": "code",
   "execution_count": null,
   "metadata": {},
   "outputs": [],
   "source": [
    "avg_slope"
   ]
  },
  {
   "cell_type": "code",
   "execution_count": null,
   "metadata": {
    "state": "normal"
   },
   "outputs": [],
   "source": [
    "plt.plot(ns, ts, 'or')\n",
    "plt.plot(ns, [avg_slope*n for n in ns], '--b');"
   ]
  },
  {
   "cell_type": "markdown",
   "metadata": {
    "state": "normal"
   },
   "source": [
    "We can also use [`polyfit`](https://numpy.org/doc/1.18/reference/generated/numpy.polyfit.html) to compute a best-fitting polynomial function of arbitrary degree for our data:"
   ]
  },
  {
   "cell_type": "code",
   "execution_count": null,
   "metadata": {
    "state": "normal"
   },
   "outputs": [],
   "source": [
    "degree = 5\n",
    "coeffs = np.polyfit(ns, ts, degree)\n",
    "p = np.poly1d(coeffs)\n",
    "plt.plot(ns, ts, 'or')\n",
    "plt.plot(ns, [p(n) for n in ns], '-b');"
   ]
  },
  {
   "cell_type": "code",
   "execution_count": null,
   "metadata": {},
   "outputs": [],
   "source": [
    "coeffs"
   ]
  },
  {
   "cell_type": "markdown",
   "metadata": {
    "state": "normal"
   },
   "source": [
    "### Is there a downside to this approach?\n",
    "\n",
    "Choosing an ill-fitting function may result in wildly inaccurate runtime predictions. Worse, inaccuracies are compounded as input sizes grow large!\n",
    "\n",
    "How do we know what class of function to use (e.g., logarithmic, linear, nth-degree polynomial, exponential) for modeling the runtime behavior of algorithms? \n",
    "\n",
    "Can we reliably determine this through empirical observation?"
   ]
  }
 ],
 "metadata": {
  "kernelspec": {
   "display_name": "Python 3 (ipykernel)",
   "language": "python",
   "name": "python3"
  },
  "language_info": {
   "codemirror_mode": {
    "name": "ipython",
    "version": 3
   },
   "file_extension": ".py",
   "mimetype": "text/x-python",
   "name": "python",
   "nbconvert_exporter": "python",
   "pygments_lexer": "ipython3",
   "version": "3.8.5"
  },
  "mimir": {
   "data": {},
   "last_submission_id": "",
   "project_id": "bd374d38-d0b1-4e36-829b-16d3963ac926"
  },
  "varInspector": {
   "cols": {
    "lenName": 16,
    "lenType": 16,
    "lenVar": 40
   },
   "kernels_config": {
    "python": {
     "delete_cmd_postfix": "",
     "delete_cmd_prefix": "del ",
     "library": "var_list.py",
     "varRefreshCmd": "print(var_dic_list())"
    },
    "r": {
     "delete_cmd_postfix": ") ",
     "delete_cmd_prefix": "rm(",
     "library": "var_list.r",
     "varRefreshCmd": "cat(var_dic_list()) "
    }
   },
   "types_to_exclude": [
    "module",
    "function",
    "builtin_function_or_method",
    "instance",
    "_Feature"
   ],
   "window_display": false
  }
 },
 "nbformat": 4,
 "nbformat_minor": 4
}
